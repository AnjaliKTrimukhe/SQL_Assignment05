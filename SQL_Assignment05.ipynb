{
 "cells": [
  {
   "cell_type": "markdown",
   "id": "35fd4009",
   "metadata": {},
   "source": [
    "Q-1. Write an SQL query to print details of workers excluding first names, “Vipul” and\n",
    "“Satish” from Worker table.\n",
    "Ans:\n",
    "Select * from Worker where FIRST_NAME not in ('Vipul','Satish');"
   ]
  },
  {
   "cell_type": "markdown",
   "id": "77925c0c",
   "metadata": {},
   "source": [
    "Q-2. Write an SQL query to print details of the Workers whose FIRST_NAME ends with\n",
    "‘h’ and contains six alphabets.\n",
    "Ans:\n",
    "Select * from Worker where FIRST_NAME like '_____h';"
   ]
  },
  {
   "cell_type": "markdown",
   "id": "4c211599",
   "metadata": {},
   "source": [
    "Q-3. Write a query to validate Email of Employee.\n",
    "Ans:\n",
    "SELECT * FROM Employee\n",
    "WHERE Email LIKE '%@gmail.com';"
   ]
  }
 ],
 "metadata": {
  "kernelspec": {
   "display_name": "Python 3 (ipykernel)",
   "language": "python",
   "name": "python3"
  },
  "language_info": {
   "codemirror_mode": {
    "name": "ipython",
    "version": 3
   },
   "file_extension": ".py",
   "mimetype": "text/x-python",
   "name": "python",
   "nbconvert_exporter": "python",
   "pygments_lexer": "ipython3",
   "version": "3.9.7"
  }
 },
 "nbformat": 4,
 "nbformat_minor": 5
}
